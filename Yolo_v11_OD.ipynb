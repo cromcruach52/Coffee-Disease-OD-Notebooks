{
  "cells": [
    {
      "cell_type": "code",
      "execution_count": null,
      "id": "c1734647-23f4-4130-b04c-12dbb70dce20",
      "metadata": {
        "id": "c1734647-23f4-4130-b04c-12dbb70dce20"
      },
      "outputs": [],
      "source": [
        "pip install ultralytics supervision roboflow"
      ]
    },
    {
      "cell_type": "code",
      "execution_count": null,
      "id": "c3a27a34-ab11-4036-bc0d-7848755c1889",
      "metadata": {
        "id": "c3a27a34-ab11-4036-bc0d-7848755c1889"
      },
      "outputs": [],
      "source": [
        "from roboflow import Roboflow\n",
        "rf = Roboflow(api_key=\"OTLFoMIpxvopxXxt2Fdw\")\n",
        "project = rf.workspace(\"barakobama\").project(\"barakobama-coffee-leaf-disease\")\n",
        "version = project.version(3)\n",
        "dataset = version.download(\"yolov11\")"
      ]
    },
    {
      "cell_type": "code",
      "execution_count": null,
      "id": "82839ea1-db60-4de5-9f1c-6f87ed80b059",
      "metadata": {
        "id": "82839ea1-db60-4de5-9f1c-6f87ed80b059"
      },
      "outputs": [],
      "source": [
        "import os\n",
        "\n",
        "os.environ['KMP_DUPLICATE_LIB_OK'] = 'True'\n",
        "os.environ['WANDB_DISABLED'] = 'true'\n",
        "os.environ['CUDA_LAUNCH_BLOCKING'] = '1'"
      ]
    },
    {
      "cell_type": "code",
      "execution_count": null,
      "id": "b3d04c21-6707-4c93-bf46-d2d94425a382",
      "metadata": {
        "id": "b3d04c21-6707-4c93-bf46-d2d94425a382"
      },
      "outputs": [],
      "source": [
        "from ultralytics import YOLO\n",
        "import cv2\n",
        "import albumentations as A\n",
        "from tqdm import tqdm\n",
        "import torch\n",
        "import torchvision\n",
        "from torchvision import transforms\n",
        "from sklearn.metrics import classification_report\n",
        "from PIL import Image\n",
        "from pathlib import Path\n",
        "import yaml\n",
        "import cv2\n",
        "import matplotlib.pyplot as plt\n",
        "import torchvision.models as models"
      ]
    },
    {
      "cell_type": "code",
      "execution_count": null,
      "id": "0ee458d9-d718-4ada-b632-05aadcd2dd79",
      "metadata": {
        "id": "0ee458d9-d718-4ada-b632-05aadcd2dd79",
        "outputId": "02e099b9-979c-4b89-9d17-e5e98e3f1047"
      },
      "outputs": [
        {
          "name": "stdout",
          "output_type": "stream",
          "text": [
            "CUDA available: True\n",
            "CUDA version: 11.8\n",
            "GPU device name: NVIDIA GeForce RTX 3060 Ti\n",
            "2.4.1\n"
          ]
        }
      ],
      "source": [
        "import torch\n",
        "print(f\"CUDA available: {torch.cuda.is_available()}\")\n",
        "print(f\"CUDA version: {torch.version.cuda}\")\n",
        "print(f\"GPU device name: {torch.cuda.get_device_name(0)}\")\n",
        "print(torch.__version__)"
      ]
    },
    {
      "cell_type": "code",
      "execution_count": null,
      "id": "3809b196-e001-46ba-b83b-fff8a283a7db",
      "metadata": {
        "id": "3809b196-e001-46ba-b83b-fff8a283a7db"
      },
      "outputs": [],
      "source": [
        "model = YOLO(\"yolo11s.pt\")\n",
        "torch.cuda.set_device(0)"
      ]
    },
    {
      "cell_type": "code",
      "execution_count": null,
      "id": "0ba557d1-b861-4111-a8e0-b649458f13e6",
      "metadata": {
        "id": "0ba557d1-b861-4111-a8e0-b649458f13e6",
        "outputId": "6ad3aea9-957a-4699-88c3-d037a4e13561",
        "scrolled": true
      },
      "outputs": [],
      "source": [
        "train_results = model.train(\n",
        "    data=\"E:\\Coffee\\Yolo v11\\BarakoBama---Coffee-Leaf-Disease-3\\data.yaml\",\n",
        "    epochs=20,\n",
        "    imgsz=640,\n",
        ")"
      ]
    },
    {
      "cell_type": "code",
      "execution_count": null,
      "id": "665b5a05-0ce5-4faf-aecf-974e030cc28a",
      "metadata": {
        "id": "665b5a05-0ce5-4faf-aecf-974e030cc28a",
        "outputId": "7159af56-f515-4bea-ae3a-a7228d6def7e"
      },
      "outputs": [
        {
          "name": "stdout",
          "output_type": "stream",
          "text": [
            "Column names in the CSV file:\n",
            "Index(['                  epoch', '         train/box_loss',\n",
            "       '         train/cls_loss', '         train/dfl_loss',\n",
            "       '   metrics/precision(B)', '      metrics/recall(B)',\n",
            "       '       metrics/mAP50(B)', '    metrics/mAP50-95(B)',\n",
            "       '           val/box_loss', '           val/cls_loss',\n",
            "       '           val/dfl_loss', '                 lr/pg0',\n",
            "       '                 lr/pg1', '                 lr/pg2'],\n",
            "      dtype='object')\n",
            "Plots have been saved as PNG files in the current directory.\n"
          ]
        }
      ],
      "source": [
        "import pandas as pd\n",
        "import matplotlib.pyplot as plt\n",
        "import seaborn as sns\n",
        "\n",
        "df = pd.read_csv('runs/detect/train9/results.csv')\n",
        "\n",
        "# Print column names\n",
        "print(\"Column names in the CSV file:\")\n",
        "print(df.columns)\n",
        "\n",
        "df.columns = df.columns.str.strip()\n",
        "\n",
        "train_loss_cols = ['train/box_loss', 'train/cls_loss', 'train/dfl_loss']\n",
        "val_loss_cols = ['val/box_loss', 'val/cls_loss', 'val/dfl_loss']\n",
        "metric_cols = ['metrics/precision(B)', 'metrics/recall(B)', 'metrics/mAP50(B)', 'metrics/mAP50-95(B)']\n",
        "lr_cols = ['lr/pg0', 'lr/pg1', 'lr/pg2']\n",
        "\n",
        "# 1. Line plot of training losses\n",
        "plt.figure(figsize=(12, 6))\n",
        "for col in train_loss_cols:\n",
        "    plt.plot(df['epoch'], df[col], label=col)\n",
        "plt.xlabel('Epoch')\n",
        "plt.ylabel('Loss')\n",
        "plt.title('Training Losses over Epochs')\n",
        "plt.legend()\n",
        "plt.savefig('training_losses_plot.png')\n",
        "plt.close()\n",
        "\n",
        "# 2. Line plot of validation losses\n",
        "plt.figure(figsize=(12, 6))\n",
        "for col in val_loss_cols:\n",
        "    plt.plot(df['epoch'], df[col], label=col)\n",
        "plt.xlabel('Epoch')\n",
        "plt.ylabel('Loss')\n",
        "plt.title('Validation Losses over Epochs')\n",
        "plt.legend()\n",
        "plt.savefig('validation_losses_plot.png')\n",
        "plt.close()\n",
        "\n",
        "# 3. Line plot of metrics\n",
        "plt.figure(figsize=(12, 6))\n",
        "for col in metric_cols:\n",
        "    plt.plot(df['epoch'], df[col], label=col)\n",
        "plt.xlabel('Epoch')\n",
        "plt.ylabel('Metric Value')\n",
        "plt.title('Training Metrics over Epochs')\n",
        "plt.legend()\n",
        "plt.savefig('metrics_plot.png')\n",
        "plt.close()\n",
        "\n",
        "# 4. Line plot of learning rates\n",
        "plt.figure(figsize=(12, 6))\n",
        "for col in lr_cols:\n",
        "    plt.plot(df['epoch'], df[col], label=col)\n",
        "plt.xlabel('Epoch')\n",
        "plt.ylabel('Learning Rate')\n",
        "plt.title('Learning Rates over Epochs')\n",
        "plt.legend()\n",
        "plt.savefig('learning_rates_plot.png')\n",
        "plt.close()\n",
        "\n",
        "# 5. Heatmap of correlation between metrics\n",
        "correlation_matrix = df[train_loss_cols + val_loss_cols + metric_cols].corr()\n",
        "plt.figure(figsize=(14, 12))\n",
        "sns.heatmap(correlation_matrix, annot=True, cmap='coolwarm', fmt='.2f')\n",
        "plt.title('Correlation Heatmap of Metrics')\n",
        "plt.savefig('correlation_heatmap.png')\n",
        "plt.tight_layout()\n",
        "plt.close()\n",
        "\n",
        "print(\"Plots have been saved as PNG files in the current directory.\")"
      ]
    },
    {
      "cell_type": "code",
      "execution_count": null,
      "id": "977483e0-658d-46ff-938c-5abf010696c7",
      "metadata": {
        "id": "977483e0-658d-46ff-938c-5abf010696c7"
      },
      "outputs": [],
      "source": []
    }
  ],
  "metadata": {
    "colab": {
      "provenance": []
    },
    "kernelspec": {
      "display_name": "Python (base)",
      "language": "python",
      "name": "base"
    },
    "language_info": {
      "codemirror_mode": {
        "name": "ipython",
        "version": 3
      },
      "file_extension": ".py",
      "mimetype": "text/x-python",
      "name": "python",
      "nbconvert_exporter": "python",
      "pygments_lexer": "ipython3",
      "version": "3.11.7"
    }
  },
  "nbformat": 4,
  "nbformat_minor": 5
}
